{
  "nbformat": 4,
  "nbformat_minor": 0,
  "metadata": {
    "colab": {
      "provenance": []
    },
    "kernelspec": {
      "name": "python3",
      "display_name": "Python 3"
    },
    "language_info": {
      "name": "python"
    }
  },
  "cells": [
    {
      "cell_type": "code",
      "execution_count": null,
      "metadata": {
        "id": "zFZoKP5OJ3PG"
      },
      "outputs": [],
      "source": []
    },
    {
      "cell_type": "markdown",
      "source": [
        "# **Tarea 02 Viernes 04 de octubre**\n",
        "\n",
        "La instrucción es generar un programa que combine variables, tipos de datos y condicionales para resolver un problema.\n",
        "\n"
      ],
      "metadata": {
        "id": "m-qe_3JGKLUA"
      }
    },
    {
      "cell_type": "markdown",
      "source": [
        "**Problema 1**\n",
        "\n",
        "El primer problema consiste en generar un *programa que imprima los números del 1 al 100*"
      ],
      "metadata": {
        "id": "aGmLWRwYLOOW"
      }
    },
    {
      "cell_type": "code",
      "source": [
        "#Solución problema 1\n",
        "a = range (1, 101)\n",
        "\n",
        "print(list(a))"
      ],
      "metadata": {
        "colab": {
          "base_uri": "https://localhost:8080/"
        },
        "id": "AaHx_n2zLoui",
        "outputId": "79fad613-7548-4ee1-90eb-1c54a538d5e5"
      },
      "execution_count": 21,
      "outputs": [
        {
          "output_type": "stream",
          "name": "stdout",
          "text": [
            "[1, 2, 3, 4, 5, 6, 7, 8, 9, 10, 11, 12, 13, 14, 15, 16, 17, 18, 19, 20, 21, 22, 23, 24, 25, 26, 27, 28, 29, 30, 31, 32, 33, 34, 35, 36, 37, 38, 39, 40, 41, 42, 43, 44, 45, 46, 47, 48, 49, 50, 51, 52, 53, 54, 55, 56, 57, 58, 59, 60, 61, 62, 63, 64, 65, 66, 67, 68, 69, 70, 71, 72, 73, 74, 75, 76, 77, 78, 79, 80, 81, 82, 83, 84, 85, 86, 87, 88, 89, 90, 91, 92, 93, 94, 95, 96, 97, 98, 99, 100]\n"
          ]
        }
      ]
    },
    {
      "cell_type": "markdown",
      "source": [
        "**Problema 2**\n",
        "\n",
        "El segundo problema consiste en realizar un *programa que imprima los números del 1 al 100 que sean divisibles entre 3 (con esto 0)*\n"
      ],
      "metadata": {
        "id": "Jbe5rnztNyYJ"
      }
    },
    {
      "cell_type": "code",
      "source": [
        "#Solución problema 2\n",
        "a = range (1, 101)\n",
        "for a in range(1, 101):\n",
        "  if a % 3 == 0:\n",
        "    print(a)"
      ],
      "metadata": {
        "colab": {
          "base_uri": "https://localhost:8080/"
        },
        "id": "Y_p2ZEYpxx5-",
        "outputId": "e86566cc-deae-4741-88f5-d37e785a3fdc"
      },
      "execution_count": 26,
      "outputs": [
        {
          "output_type": "stream",
          "name": "stdout",
          "text": [
            "3\n",
            "6\n",
            "9\n",
            "12\n",
            "15\n",
            "18\n",
            "21\n",
            "24\n",
            "27\n",
            "30\n",
            "33\n",
            "36\n",
            "39\n",
            "42\n",
            "45\n",
            "48\n",
            "51\n",
            "54\n",
            "57\n",
            "60\n",
            "63\n",
            "66\n",
            "69\n",
            "72\n",
            "75\n",
            "78\n",
            "81\n",
            "84\n",
            "87\n",
            "90\n",
            "93\n",
            "96\n",
            "99\n"
          ]
        }
      ]
    },
    {
      "cell_type": "markdown",
      "source": [
        "**Problema 3**\n",
        "\n",
        "Para el penúltimo ejercicio, hay que generar un *pseudocódigo, sumador y comparador de dos números*\n"
      ],
      "metadata": {
        "id": "O664pLaTdtdR"
      }
    },
    {
      "cell_type": "code",
      "source": [
        "#Solución problema 3\n",
        "numero1 = 100\n",
        "numero2 = 60\n",
        "suma = numero1 + numero2\n",
        "\n",
        "if suma < 100:\n",
        "  print(\"la suma es menor a 100\")\n",
        "else:\n",
        "  if suma > 100 and suma < 150:\n",
        "    print(\"la suma está entre 100 y 150\")\n",
        "  else:\n",
        "      print(\"la suma es mayor a 150\")"
      ],
      "metadata": {
        "colab": {
          "base_uri": "https://localhost:8080/"
        },
        "id": "N2B0IuX0d0DM",
        "outputId": "34ec1511-1f30-4b4f-d79a-e97a448c9443"
      },
      "execution_count": 18,
      "outputs": [
        {
          "output_type": "stream",
          "name": "stdout",
          "text": [
            "la suma es mayor a 150\n"
          ]
        }
      ]
    },
    {
      "cell_type": "markdown",
      "source": [
        "**Problema 4**\n",
        "\n",
        "Finalmente, se debe generar un *programa que combine variables, tipos de datos y una condicional*\n",
        "\n"
      ],
      "metadata": {
        "id": "VCNjE81Ignf6"
      }
    },
    {
      "cell_type": "code",
      "source": [
        "#Solución 4\n",
        "edad = 20\n",
        "gusta_programar = False\n",
        "\n",
        "if edad > 18 and gusta_programar == True:\n",
        "  print(\"Eres mayor de 18 años y te gusta programar\")\n",
        "else:\n",
        "  print(\"Eres mayor de 18 años y no te gusta programar\")"
      ],
      "metadata": {
        "id": "TDS5NZU8g1C9",
        "colab": {
          "base_uri": "https://localhost:8080/"
        },
        "outputId": "616cd873-6f3f-4d36-83eb-54d8f174fe12"
      },
      "execution_count": 19,
      "outputs": [
        {
          "output_type": "stream",
          "name": "stdout",
          "text": [
            "Eres mayor de 18 años y no te gusta programar\n"
          ]
        }
      ]
    }
  ]
}